{
  "nbformat": 4,
  "nbformat_minor": 0,
  "metadata": {
    "colab": {
      "provenance": []
    },
    "kernelspec": {
      "name": "python3",
      "display_name": "Python 3"
    },
    "language_info": {
      "name": "python"
    }
  },
  "cells": [
    {
      "cell_type": "markdown",
      "source": [
        "#GROQ\n"
      ],
      "metadata": {
        "id": "Nq2t42vULZ7F"
      }
    },
    {
      "cell_type": "code",
      "source": [
        "!pip install groq\n",
        "import os\n",
        "key=\"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\""
      ],
      "metadata": {
        "colab": {
          "base_uri": "https://localhost:8080/"
        },
        "collapsed": true,
        "id": "nDEc3AIh0-oR",
        "outputId": "ccd36e92-a29f-4567-ae95-0bb74b976446"
      },
      "execution_count": 1,
      "outputs": [
        {
          "output_type": "stream",
          "name": "stdout",
          "text": [
            "Collecting groq\n",
            "  Downloading groq-0.20.0-py3-none-any.whl.metadata (15 kB)\n",
            "Requirement already satisfied: anyio<5,>=3.5.0 in /usr/local/lib/python3.11/dist-packages (from groq) (4.9.0)\n",
            "Requirement already satisfied: distro<2,>=1.7.0 in /usr/local/lib/python3.11/dist-packages (from groq) (1.9.0)\n",
            "Requirement already satisfied: httpx<1,>=0.23.0 in /usr/local/lib/python3.11/dist-packages (from groq) (0.28.1)\n",
            "Requirement already satisfied: pydantic<3,>=1.9.0 in /usr/local/lib/python3.11/dist-packages (from groq) (2.10.6)\n",
            "Requirement already satisfied: sniffio in /usr/local/lib/python3.11/dist-packages (from groq) (1.3.1)\n",
            "Requirement already satisfied: typing-extensions<5,>=4.10 in /usr/local/lib/python3.11/dist-packages (from groq) (4.12.2)\n",
            "Requirement already satisfied: idna>=2.8 in /usr/local/lib/python3.11/dist-packages (from anyio<5,>=3.5.0->groq) (3.10)\n",
            "Requirement already satisfied: certifi in /usr/local/lib/python3.11/dist-packages (from httpx<1,>=0.23.0->groq) (2025.1.31)\n",
            "Requirement already satisfied: httpcore==1.* in /usr/local/lib/python3.11/dist-packages (from httpx<1,>=0.23.0->groq) (1.0.7)\n",
            "Requirement already satisfied: h11<0.15,>=0.13 in /usr/local/lib/python3.11/dist-packages (from httpcore==1.*->httpx<1,>=0.23.0->groq) (0.14.0)\n",
            "Requirement already satisfied: annotated-types>=0.6.0 in /usr/local/lib/python3.11/dist-packages (from pydantic<3,>=1.9.0->groq) (0.7.0)\n",
            "Requirement already satisfied: pydantic-core==2.27.2 in /usr/local/lib/python3.11/dist-packages (from pydantic<3,>=1.9.0->groq) (2.27.2)\n",
            "Downloading groq-0.20.0-py3-none-any.whl (124 kB)\n",
            "\u001b[2K   \u001b[90m━━━━━━━━━━━━━━━━━━━━━━━━━━━━━━━━━━━━━━━━\u001b[0m \u001b[32m124.9/124.9 kB\u001b[0m \u001b[31m3.1 MB/s\u001b[0m eta \u001b[36m0:00:00\u001b[0m\n",
            "\u001b[?25hInstalling collected packages: groq\n",
            "Successfully installed groq-0.20.0\n"
          ]
        }
      ]
    },
    {
      "cell_type": "code",
      "source": [
        "from groq import Groq\n",
        "os.environ[\"GROQ_API_KEY\"] = key\n",
        "client = Groq()\n",
        "completion = client.chat.completions.create(\n",
        "    model=\"llama-3.3-70b-versatile\",\n",
        "    messages=[\n",
        "        {\n",
        "            \"role\": \"user\",\n",
        "            \"content\": \"what is cricket\"\n",
        "        }\n",
        "    ],\n",
        "    temperature=1,\n",
        "    max_completion_tokens=1024,\n",
        "    top_p=1,\n",
        "    stream=True,\n",
        "    stop=None,\n",
        ")\n",
        "response_text = \"\"\n",
        "for chunk in completion:\n",
        "    response_text += chunk.choices[0].delta.content or \"\"\n"
      ],
      "metadata": {
        "id": "67FWXtNVWZyk",
        "collapsed": true
      },
      "execution_count": 2,
      "outputs": []
    },
    {
      "cell_type": "code",
      "source": [
        "type(response_text)"
      ],
      "metadata": {
        "colab": {
          "base_uri": "https://localhost:8080/"
        },
        "id": "KhOHTqzVZgPR",
        "outputId": "fdc6b6b1-1d1d-4bd9-da87-514026f12bd5"
      },
      "execution_count": 3,
      "outputs": [
        {
          "output_type": "execute_result",
          "data": {
            "text/plain": [
              "str"
            ]
          },
          "metadata": {},
          "execution_count": 3
        }
      ]
    },
    {
      "cell_type": "code",
      "source": [
        "student_description = \"sunny savita is a student of computer science at IIT delhi. He is an indian and has a 8.5 GPA. Sunny is known for his programming skills and is an active member of the college's AI Club. He hopes to pursue a career in artificial intelligence after graduating.\""
      ],
      "metadata": {
        "id": "w7HNFi2KbbPn"
      },
      "execution_count": 4,
      "outputs": []
    },
    {
      "cell_type": "code",
      "source": [
        "# A simple prompt to extract information from \"student_description\" in a JSON format.\n",
        "prompt = f'''\n",
        "Please extract the following information from the given text and return it as a JSON object:\n",
        "\n",
        "name\n",
        "college\n",
        "grades\n",
        "club\n",
        "\n",
        "This is the body of text to extract the information from:\n",
        "{student_description}\n",
        "'''"
      ],
      "metadata": {
        "id": "qES-Zh4Pbhr8"
      },
      "execution_count": 5,
      "outputs": []
    },
    {
      "cell_type": "code",
      "source": [
        "prompt"
      ],
      "metadata": {
        "colab": {
          "base_uri": "https://localhost:8080/",
          "height": 90
        },
        "id": "7vHbk5FBbkfl",
        "outputId": "8aa75ffa-a2ab-4c04-91d1-c5345233df95"
      },
      "execution_count": 6,
      "outputs": [
        {
          "output_type": "execute_result",
          "data": {
            "text/plain": [
              "\"\\nPlease extract the following information from the given text and return it as a JSON object:\\n\\nname\\ncollege\\ngrades\\nclub\\n\\nThis is the body of text to extract the information from:\\nsunny savita is a student of computer science at IIT delhi. He is an indian and has a 8.5 GPA. Sunny is known for his programming skills and is an active member of the college's AI Club. He hopes to pursue a career in artificial intelligence after graduating.\\n\""
            ],
            "application/vnd.google.colaboratory.intrinsic+json": {
              "type": "string"
            }
          },
          "metadata": {},
          "execution_count": 6
        }
      ]
    },
    {
      "cell_type": "code",
      "source": [
        "\n",
        "completion2 = client.chat.completions.create(\n",
        "    model=\"llama-3.3-70b-versatile\",\n",
        "    messages=[\n",
        "        {\n",
        "            \"role\": \"user\",\n",
        "            \"content\": prompt\n",
        "        }\n",
        "    ],\n",
        ")\n",
        "\n"
      ],
      "metadata": {
        "id": "9Jc5qljJbnYu"
      },
      "execution_count": 7,
      "outputs": []
    },
    {
      "cell_type": "code",
      "source": [
        "output=completion2.choices[0].message.content"
      ],
      "metadata": {
        "id": "eScV5f9Qb2lK"
      },
      "execution_count": 8,
      "outputs": []
    },
    {
      "cell_type": "code",
      "source": [
        "print(output)"
      ],
      "metadata": {
        "colab": {
          "base_uri": "https://localhost:8080/"
        },
        "id": "cjp3iX8wb4it",
        "outputId": "dccd2a8d-5e28-43c5-ba05-711cfb6773e5"
      },
      "execution_count": 9,
      "outputs": [
        {
          "output_type": "stream",
          "name": "stdout",
          "text": [
            "Here's the extracted information in a JSON object:\n",
            "\n",
            "```json\n",
            "{\n",
            "    \"name\": \"Sunny Savita\",\n",
            "    \"college\": \"IIT Delhi\",\n",
            "    \"grades\": \"8.5 GPA\",\n",
            "    \"club\": \"AI Club\"\n",
            "}\n",
            "```\n"
          ]
        }
      ]
    },
    {
      "cell_type": "markdown",
      "source": [
        "#Example of function calling\n"
      ],
      "metadata": {
        "id": "tGex17REc0Qc"
      }
    },
    {
      "cell_type": "code",
      "source": [
        "function_descriptions = [\n",
        "    {\n",
        "        \"name\": \"get_flight_info\",\n",
        "        \"description\": \"Get flight information between two locations\",\n",
        "        \"parameters\": {\n",
        "            \"type\": \"object\",\n",
        "            \"properties\": {\n",
        "                \"loc_origin\": {\n",
        "                    \"type\": \"string\",\n",
        "                    \"description\": \"The departure airport, e.g. DEL\",\n",
        "                },\n",
        "                \"loc_destination\": {\n",
        "                    \"type\": \"string\",\n",
        "                    \"description\": \"The destination airport, e.g. MUM\",\n",
        "                },\n",
        "            },\n",
        "            \"required\": [\"loc_origin\", \"loc_destination\"],\n",
        "        },\n",
        "    }\n",
        "]"
      ],
      "metadata": {
        "id": "kAzJsOrqfaHk"
      },
      "execution_count": 10,
      "outputs": []
    },
    {
      "cell_type": "code",
      "source": [
        "user_prompt = \"When's the next flight from new lahore to karachi?\""
      ],
      "metadata": {
        "id": "VgJnWyQyflzc"
      },
      "execution_count": 11,
      "outputs": []
    },
    {
      "cell_type": "code",
      "source": [
        "completion2 = client.chat.completions.create(\n",
        "    model=\"llama-3.3-70b-versatile\",\n",
        "    messages=[\n",
        "        {\n",
        "            \"role\": \"user\",\n",
        "            \"content\": user_prompt\n",
        "\n",
        "        }\n",
        "    ],\n",
        "    functions=function_descriptions,\n",
        "    function_call=\"auto\",\n",
        ")\n"
      ],
      "metadata": {
        "id": "VvlNQv92cP7O"
      },
      "execution_count": 12,
      "outputs": []
    },
    {
      "cell_type": "code",
      "source": [
        "completion2.choices[0].message.function_call.arguments"
      ],
      "metadata": {
        "colab": {
          "base_uri": "https://localhost:8080/",
          "height": 36
        },
        "collapsed": true,
        "id": "oeMMMfI6dCE4",
        "outputId": "c2877d93-5547-4940-fd0e-06b8fd5afad1"
      },
      "execution_count": 13,
      "outputs": [
        {
          "output_type": "execute_result",
          "data": {
            "text/plain": [
              "'{\"loc_origin\": \"LHE\", \"loc_destination\": \"KHI\"}'"
            ],
            "application/vnd.google.colaboratory.intrinsic+json": {
              "type": "string"
            }
          },
          "metadata": {},
          "execution_count": 13
        }
      ]
    },
    {
      "cell_type": "code",
      "source": [
        "import json\n",
        "from datetime import datetime,timedelta\n",
        "def get_flight_info(loc_origin, loc_destination):\n",
        "    \"\"\"Get flight information between two locations.\"\"\"\n",
        "\n",
        "    # Example output returned from an API or database\n",
        "    flight_info = {\n",
        "        \"loc_origin\": loc_origin,\n",
        "        \"loc_destination\": loc_destination,\n",
        "        \"datetime\": str(datetime.now() + timedelta(hours=2)),\n",
        "        \"airline\": \"KLM\",\n",
        "        \"flight\": \"KL643\",\n",
        "    }\n",
        "\n",
        "    return json.dumps(flight_info)"
      ],
      "metadata": {
        "id": "rTz2ZaotdGCI"
      },
      "execution_count": 14,
      "outputs": []
    },
    {
      "cell_type": "code",
      "source": [
        "params=json.loads(completion2.choices[0].message.function_call.arguments)"
      ],
      "metadata": {
        "id": "4_AGkFYDhDwT"
      },
      "execution_count": 15,
      "outputs": []
    },
    {
      "cell_type": "code",
      "source": [
        "origin = json.loads(completion2.choices[0].message.function_call.arguments).get(\"loc_origin\")\n",
        "destination = json.loads(completion2.choices[0].message.function_call.arguments).get(\"loc_destination\")"
      ],
      "metadata": {
        "id": "qjBTE3IHixQO"
      },
      "execution_count": 16,
      "outputs": []
    },
    {
      "cell_type": "code",
      "source": [
        "print(origin)"
      ],
      "metadata": {
        "colab": {
          "base_uri": "https://localhost:8080/"
        },
        "id": "4Y8VlFqpi1QN",
        "outputId": "4734d327-689a-4093-bfb3-f797c4ef4e9a"
      },
      "execution_count": 17,
      "outputs": [
        {
          "output_type": "stream",
          "name": "stdout",
          "text": [
            "LHE\n"
          ]
        }
      ]
    },
    {
      "cell_type": "code",
      "source": [
        "print(destination)"
      ],
      "metadata": {
        "colab": {
          "base_uri": "https://localhost:8080/"
        },
        "id": "IZibDvN_i4iH",
        "outputId": "fb653989-2e3a-4c08-ad27-178f1febb2fa"
      },
      "execution_count": 18,
      "outputs": [
        {
          "output_type": "stream",
          "name": "stdout",
          "text": [
            "KHI\n"
          ]
        }
      ]
    },
    {
      "cell_type": "code",
      "source": [
        "completion2.choices[0].message.function_call.name"
      ],
      "metadata": {
        "colab": {
          "base_uri": "https://localhost:8080/",
          "height": 36
        },
        "id": "MxlRa0Eldd3B",
        "outputId": "e4fe6b6b-f5a9-42f4-8ce6-711e605aaf0c"
      },
      "execution_count": 19,
      "outputs": [
        {
          "output_type": "execute_result",
          "data": {
            "text/plain": [
              "'get_flight_info'"
            ],
            "application/vnd.google.colaboratory.intrinsic+json": {
              "type": "string"
            }
          },
          "metadata": {},
          "execution_count": 19
        }
      ]
    },
    {
      "cell_type": "code",
      "source": [
        "chosen_function=eval(completion2.choices[0].message.function_call.name)"
      ],
      "metadata": {
        "id": "b8MvYpDjg4OC"
      },
      "execution_count": 20,
      "outputs": []
    },
    {
      "cell_type": "code",
      "source": [
        "flight = chosen_function(**params)\n",
        "print(flight)"
      ],
      "metadata": {
        "colab": {
          "base_uri": "https://localhost:8080/"
        },
        "id": "0wwRDMYtg8cw",
        "outputId": "91e2228a-1d52-46ca-f028-77e76b8523de"
      },
      "execution_count": 21,
      "outputs": [
        {
          "output_type": "stream",
          "name": "stdout",
          "text": [
            "{\"loc_origin\": \"LHE\", \"loc_destination\": \"KHI\", \"datetime\": \"2025-03-29 09:12:15.956352\", \"airline\": \"KLM\", \"flight\": \"KL643\"}\n"
          ]
        }
      ]
    },
    {
      "cell_type": "code",
      "source": [
        "flight_response = json.loads(flight)"
      ],
      "metadata": {
        "id": "VZBM_RhRkIFq"
      },
      "execution_count": 22,
      "outputs": []
    },
    {
      "cell_type": "code",
      "source": [
        "completion3 = client.chat.completions.create(\n",
        "    model=\"llama-3.3-70b-versatile\",\n",
        "    messages=[\n",
        "        {\"role\": \"user\", \"content\": user_prompt},\n",
        "        {\"role\": \"function\", \"name\": completion2.choices[0].message.function_call.name, \"content\": flight},\n",
        "        {\"role\": \"assistant\", \"content\": \"Here are your flight details: \" + flight}\n",
        "    ],\n",
        "    functions=function_descriptions,\n",
        "    function_call=\"auto\",\n",
        ")\n"
      ],
      "metadata": {
        "id": "slXq7zW1hROA"
      },
      "execution_count": 23,
      "outputs": []
    },
    {
      "cell_type": "code",
      "source": [
        "if completion3.choices[0].message.content is None:\n",
        "    print(\"Here are your flight details:\", flight_response)\n",
        "else:\n",
        "    print(completion3.choices[0].message.content)\n"
      ],
      "metadata": {
        "colab": {
          "base_uri": "https://localhost:8080/"
        },
        "id": "72kAhz4E1StL",
        "outputId": "7a167220-045d-40f6-f225-f009a1f198f6"
      },
      "execution_count": 24,
      "outputs": [
        {
          "output_type": "stream",
          "name": "stdout",
          "text": [
            " </s><function=get_flight_info{\"loc_origin\": \"LHE\", \"loc_destination\": \"KHI\"}</function>\n"
          ]
        }
      ]
    },
    {
      "cell_type": "markdown",
      "source": [
        "#Langchain"
      ],
      "metadata": {
        "id": "1GzduMu6PtMj"
      }
    },
    {
      "cell_type": "code",
      "source": [
        "!pip install langchain-groq"
      ],
      "metadata": {
        "collapsed": true,
        "colab": {
          "base_uri": "https://localhost:8080/"
        },
        "id": "C2jzCUCqG-3o",
        "outputId": "d944efdb-23a0-4c59-f48d-06ddbafa716a"
      },
      "execution_count": 25,
      "outputs": [
        {
          "output_type": "stream",
          "name": "stdout",
          "text": [
            "Collecting langchain-groq\n",
            "  Downloading langchain_groq-0.3.1-py3-none-any.whl.metadata (2.6 kB)\n",
            "Requirement already satisfied: langchain-core<1.0.0,>=0.3.47 in /usr/local/lib/python3.11/dist-packages (from langchain-groq) (0.3.47)\n",
            "Requirement already satisfied: groq<1,>=0.4.1 in /usr/local/lib/python3.11/dist-packages (from langchain-groq) (0.20.0)\n",
            "Requirement already satisfied: anyio<5,>=3.5.0 in /usr/local/lib/python3.11/dist-packages (from groq<1,>=0.4.1->langchain-groq) (4.9.0)\n",
            "Requirement already satisfied: distro<2,>=1.7.0 in /usr/local/lib/python3.11/dist-packages (from groq<1,>=0.4.1->langchain-groq) (1.9.0)\n",
            "Requirement already satisfied: httpx<1,>=0.23.0 in /usr/local/lib/python3.11/dist-packages (from groq<1,>=0.4.1->langchain-groq) (0.28.1)\n",
            "Requirement already satisfied: pydantic<3,>=1.9.0 in /usr/local/lib/python3.11/dist-packages (from groq<1,>=0.4.1->langchain-groq) (2.10.6)\n",
            "Requirement already satisfied: sniffio in /usr/local/lib/python3.11/dist-packages (from groq<1,>=0.4.1->langchain-groq) (1.3.1)\n",
            "Requirement already satisfied: typing-extensions<5,>=4.10 in /usr/local/lib/python3.11/dist-packages (from groq<1,>=0.4.1->langchain-groq) (4.12.2)\n",
            "Requirement already satisfied: langsmith<0.4,>=0.1.125 in /usr/local/lib/python3.11/dist-packages (from langchain-core<1.0.0,>=0.3.47->langchain-groq) (0.3.18)\n",
            "Requirement already satisfied: tenacity!=8.4.0,<10.0.0,>=8.1.0 in /usr/local/lib/python3.11/dist-packages (from langchain-core<1.0.0,>=0.3.47->langchain-groq) (9.0.0)\n",
            "Requirement already satisfied: jsonpatch<2.0,>=1.33 in /usr/local/lib/python3.11/dist-packages (from langchain-core<1.0.0,>=0.3.47->langchain-groq) (1.33)\n",
            "Requirement already satisfied: PyYAML>=5.3 in /usr/local/lib/python3.11/dist-packages (from langchain-core<1.0.0,>=0.3.47->langchain-groq) (6.0.2)\n",
            "Requirement already satisfied: packaging<25,>=23.2 in /usr/local/lib/python3.11/dist-packages (from langchain-core<1.0.0,>=0.3.47->langchain-groq) (24.2)\n",
            "Requirement already satisfied: idna>=2.8 in /usr/local/lib/python3.11/dist-packages (from anyio<5,>=3.5.0->groq<1,>=0.4.1->langchain-groq) (3.10)\n",
            "Requirement already satisfied: certifi in /usr/local/lib/python3.11/dist-packages (from httpx<1,>=0.23.0->groq<1,>=0.4.1->langchain-groq) (2025.1.31)\n",
            "Requirement already satisfied: httpcore==1.* in /usr/local/lib/python3.11/dist-packages (from httpx<1,>=0.23.0->groq<1,>=0.4.1->langchain-groq) (1.0.7)\n",
            "Requirement already satisfied: h11<0.15,>=0.13 in /usr/local/lib/python3.11/dist-packages (from httpcore==1.*->httpx<1,>=0.23.0->groq<1,>=0.4.1->langchain-groq) (0.14.0)\n",
            "Requirement already satisfied: jsonpointer>=1.9 in /usr/local/lib/python3.11/dist-packages (from jsonpatch<2.0,>=1.33->langchain-core<1.0.0,>=0.3.47->langchain-groq) (3.0.0)\n",
            "Requirement already satisfied: orjson<4.0.0,>=3.9.14 in /usr/local/lib/python3.11/dist-packages (from langsmith<0.4,>=0.1.125->langchain-core<1.0.0,>=0.3.47->langchain-groq) (3.10.15)\n",
            "Requirement already satisfied: requests<3,>=2 in /usr/local/lib/python3.11/dist-packages (from langsmith<0.4,>=0.1.125->langchain-core<1.0.0,>=0.3.47->langchain-groq) (2.32.3)\n",
            "Requirement already satisfied: requests-toolbelt<2.0.0,>=1.0.0 in /usr/local/lib/python3.11/dist-packages (from langsmith<0.4,>=0.1.125->langchain-core<1.0.0,>=0.3.47->langchain-groq) (1.0.0)\n",
            "Requirement already satisfied: zstandard<0.24.0,>=0.23.0 in /usr/local/lib/python3.11/dist-packages (from langsmith<0.4,>=0.1.125->langchain-core<1.0.0,>=0.3.47->langchain-groq) (0.23.0)\n",
            "Requirement already satisfied: annotated-types>=0.6.0 in /usr/local/lib/python3.11/dist-packages (from pydantic<3,>=1.9.0->groq<1,>=0.4.1->langchain-groq) (0.7.0)\n",
            "Requirement already satisfied: pydantic-core==2.27.2 in /usr/local/lib/python3.11/dist-packages (from pydantic<3,>=1.9.0->groq<1,>=0.4.1->langchain-groq) (2.27.2)\n",
            "Requirement already satisfied: charset-normalizer<4,>=2 in /usr/local/lib/python3.11/dist-packages (from requests<3,>=2->langsmith<0.4,>=0.1.125->langchain-core<1.0.0,>=0.3.47->langchain-groq) (3.4.1)\n",
            "Requirement already satisfied: urllib3<3,>=1.21.1 in /usr/local/lib/python3.11/dist-packages (from requests<3,>=2->langsmith<0.4,>=0.1.125->langchain-core<1.0.0,>=0.3.47->langchain-groq) (2.3.0)\n",
            "Downloading langchain_groq-0.3.1-py3-none-any.whl (15 kB)\n",
            "Installing collected packages: langchain-groq\n",
            "Successfully installed langchain-groq-0.3.1\n"
          ]
        }
      ]
    },
    {
      "cell_type": "code",
      "source": [
        "from langchain_core.prompts import ChatPromptTemplate\n",
        "from langchain_groq import ChatGroq"
      ],
      "metadata": {
        "id": "Wl9ljngBQVnB"
      },
      "execution_count": 26,
      "outputs": []
    },
    {
      "cell_type": "code",
      "source": [
        "%env GROQ_API_KEY=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"
      ],
      "metadata": {
        "colab": {
          "base_uri": "https://localhost:8080/"
        },
        "id": "a1U97cceP3PP",
        "outputId": "744d6c97-3ee8-4bc0-afcc-9e824a8a7884"
      },
      "execution_count": 27,
      "outputs": [
        {
          "output_type": "stream",
          "name": "stdout",
          "text": [
            "env: GROQ_API_KEY=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\n"
          ]
        }
      ]
    },
    {
      "cell_type": "code",
      "source": [
        "prompt1=\"Can you tell me number of countries in asia? just give me top 10 countires name\""
      ],
      "metadata": {
        "id": "Qybjyi9vHOsk"
      },
      "execution_count": 28,
      "outputs": []
    },
    {
      "cell_type": "code",
      "source": [
        "prompt2=\"can you tell me the capital of pakistan\""
      ],
      "metadata": {
        "id": "wW6HZRDnHlO9"
      },
      "execution_count": 29,
      "outputs": []
    },
    {
      "cell_type": "code",
      "source": [
        "chat = ChatGroq(temperature=0, model_name=\"llama-3.3-70b-versatile\")"
      ],
      "metadata": {
        "id": "DkfMlaFlQRh0"
      },
      "execution_count": 30,
      "outputs": []
    },
    {
      "cell_type": "code",
      "source": [
        "from langchain.prompts import PromptTemplate"
      ],
      "metadata": {
        "id": "g3U-9wWBQ5nq"
      },
      "execution_count": 31,
      "outputs": []
    },
    {
      "cell_type": "code",
      "source": [
        "prompt_template_name=PromptTemplate(\n",
        "    input_variables=[\"Country\"],\n",
        "    template=\"can you tell me capital of {Country}?\"\n",
        ")"
      ],
      "metadata": {
        "id": "lOanfxlksKoj"
      },
      "execution_count": 32,
      "outputs": []
    },
    {
      "cell_type": "code",
      "source": [
        "prompt1=prompt_template_name.format(Country=\"Pakistan\")"
      ],
      "metadata": {
        "id": "OnDqVUeaswLP"
      },
      "execution_count": 33,
      "outputs": []
    },
    {
      "cell_type": "code",
      "source": [
        "promp2=prompt_template_name.format(Country=\"India\")"
      ],
      "metadata": {
        "id": "ryMay9PAs8yv"
      },
      "execution_count": 34,
      "outputs": []
    },
    {
      "cell_type": "code",
      "source": [
        "prompt3=\"Can you tell me who won recent cricket champions trophy??\""
      ],
      "metadata": {
        "id": "s_GThi9_2J6e"
      },
      "execution_count": 35,
      "outputs": []
    },
    {
      "cell_type": "code",
      "source": [
        "system = \"You are a helpful assistant.\"\n",
        "human = \"{text}\"\n",
        "prompt = ChatPromptTemplate.from_messages([(\"system\", system), (\"human\", human)])\n",
        "\n",
        "chain = prompt | chat\n",
        "output1=chain.invoke({prompt1})\n",
        "output2=chain.invoke({promp2})\n",
        "output3=chain.invoke({prompt3})"
      ],
      "metadata": {
        "id": "Ac9QvGM-tV7n"
      },
      "execution_count": 36,
      "outputs": []
    },
    {
      "cell_type": "code",
      "source": [
        "print(output1.content)\n",
        "print(output2.content)\n",
        "print(output3.content)\n"
      ],
      "metadata": {
        "colab": {
          "base_uri": "https://localhost:8080/"
        },
        "id": "-bpNK1oIuC7k",
        "outputId": "f8f031b5-899a-4f95-a28b-b67d623bd66d"
      },
      "execution_count": 37,
      "outputs": [
        {
          "output_type": "stream",
          "name": "stdout",
          "text": [
            "The capital of Pakistan is Islamabad.\n",
            "The capital of India is **New Delhi**.\n",
            "The most recent ICC Champions Trophy was held in 2017. Pakistan won the tournament by defeating India in the final with a score of 338/4, chasing India's 158 all out in just 30.3 overs, and then Pakistan made 338/4 in 50 overs, winning the match by 180 runs. Fakhar Zaman was the player of the match, scoring 114 runs. This was Pakistan's first ICC Champions Trophy title.\n"
          ]
        }
      ]
    },
    {
      "cell_type": "markdown",
      "source": [
        "#Agents\n"
      ],
      "metadata": {
        "id": "N1WNnuVzLUb0"
      }
    },
    {
      "cell_type": "code",
      "source": [
        "!pip install google-search-results"
      ],
      "metadata": {
        "colab": {
          "base_uri": "https://localhost:8080/"
        },
        "collapsed": true,
        "id": "kEK6Uz1_uUnb",
        "outputId": "48835490-771e-4675-8a4f-51afd449e4e4"
      },
      "execution_count": 38,
      "outputs": [
        {
          "output_type": "stream",
          "name": "stdout",
          "text": [
            "Collecting google-search-results\n",
            "  Downloading google_search_results-2.4.2.tar.gz (18 kB)\n",
            "  Preparing metadata (setup.py) ... \u001b[?25l\u001b[?25hdone\n",
            "Requirement already satisfied: requests in /usr/local/lib/python3.11/dist-packages (from google-search-results) (2.32.3)\n",
            "Requirement already satisfied: charset-normalizer<4,>=2 in /usr/local/lib/python3.11/dist-packages (from requests->google-search-results) (3.4.1)\n",
            "Requirement already satisfied: idna<4,>=2.5 in /usr/local/lib/python3.11/dist-packages (from requests->google-search-results) (3.10)\n",
            "Requirement already satisfied: urllib3<3,>=1.21.1 in /usr/local/lib/python3.11/dist-packages (from requests->google-search-results) (2.3.0)\n",
            "Requirement already satisfied: certifi>=2017.4.17 in /usr/local/lib/python3.11/dist-packages (from requests->google-search-results) (2025.1.31)\n",
            "Building wheels for collected packages: google-search-results\n",
            "  Building wheel for google-search-results (setup.py) ... \u001b[?25l\u001b[?25hdone\n",
            "  Created wheel for google-search-results: filename=google_search_results-2.4.2-py3-none-any.whl size=32009 sha256=d090654627492180a68d7cdcc1853262693dce330720c912ca3afb14635b9c0b\n",
            "  Stored in directory: /root/.cache/pip/wheels/6e/42/3e/aeb691b02cb7175ec70e2da04b5658d4739d2b41e5f73cd06f\n",
            "Successfully built google-search-results\n",
            "Installing collected packages: google-search-results\n",
            "Successfully installed google-search-results-2.4.2\n"
          ]
        }
      ]
    },
    {
      "cell_type": "code",
      "source": [
        "serp_key=\"6949952e6ede49f114caff1a02612ec0bd7f3b907ff2e270f50d6088becc6f2f\""
      ],
      "metadata": {
        "id": "shCKlrAF3KAU"
      },
      "execution_count": 39,
      "outputs": []
    },
    {
      "cell_type": "code",
      "source": [
        "!pip install google-search-results\n",
        "!pip install -U langchain langchain-community langchain-groq\n"
      ],
      "metadata": {
        "colab": {
          "base_uri": "https://localhost:8080/"
        },
        "collapsed": true,
        "id": "qRnlKhpFDAJ8",
        "outputId": "d6e92d13-73fc-4bc8-b75e-9a33000744f5"
      },
      "execution_count": 40,
      "outputs": [
        {
          "output_type": "stream",
          "name": "stdout",
          "text": [
            "Requirement already satisfied: google-search-results in /usr/local/lib/python3.11/dist-packages (2.4.2)\n",
            "Requirement already satisfied: requests in /usr/local/lib/python3.11/dist-packages (from google-search-results) (2.32.3)\n",
            "Requirement already satisfied: charset-normalizer<4,>=2 in /usr/local/lib/python3.11/dist-packages (from requests->google-search-results) (3.4.1)\n",
            "Requirement already satisfied: idna<4,>=2.5 in /usr/local/lib/python3.11/dist-packages (from requests->google-search-results) (3.10)\n",
            "Requirement already satisfied: urllib3<3,>=1.21.1 in /usr/local/lib/python3.11/dist-packages (from requests->google-search-results) (2.3.0)\n",
            "Requirement already satisfied: certifi>=2017.4.17 in /usr/local/lib/python3.11/dist-packages (from requests->google-search-results) (2025.1.31)\n",
            "Requirement already satisfied: langchain in /usr/local/lib/python3.11/dist-packages (0.3.21)\n",
            "Collecting langchain-community\n",
            "  Downloading langchain_community-0.3.20-py3-none-any.whl.metadata (2.4 kB)\n",
            "Requirement already satisfied: langchain-groq in /usr/local/lib/python3.11/dist-packages (0.3.1)\n",
            "Requirement already satisfied: langchain-core<1.0.0,>=0.3.45 in /usr/local/lib/python3.11/dist-packages (from langchain) (0.3.47)\n",
            "Requirement already satisfied: langchain-text-splitters<1.0.0,>=0.3.7 in /usr/local/lib/python3.11/dist-packages (from langchain) (0.3.7)\n",
            "Requirement already satisfied: langsmith<0.4,>=0.1.17 in /usr/local/lib/python3.11/dist-packages (from langchain) (0.3.18)\n",
            "Requirement already satisfied: pydantic<3.0.0,>=2.7.4 in /usr/local/lib/python3.11/dist-packages (from langchain) (2.10.6)\n",
            "Requirement already satisfied: SQLAlchemy<3,>=1.4 in /usr/local/lib/python3.11/dist-packages (from langchain) (2.0.39)\n",
            "Requirement already satisfied: requests<3,>=2 in /usr/local/lib/python3.11/dist-packages (from langchain) (2.32.3)\n",
            "Requirement already satisfied: PyYAML>=5.3 in /usr/local/lib/python3.11/dist-packages (from langchain) (6.0.2)\n",
            "Requirement already satisfied: aiohttp<4.0.0,>=3.8.3 in /usr/local/lib/python3.11/dist-packages (from langchain-community) (3.11.14)\n",
            "Requirement already satisfied: tenacity!=8.4.0,<10,>=8.1.0 in /usr/local/lib/python3.11/dist-packages (from langchain-community) (9.0.0)\n",
            "Collecting dataclasses-json<0.7,>=0.5.7 (from langchain-community)\n",
            "  Downloading dataclasses_json-0.6.7-py3-none-any.whl.metadata (25 kB)\n",
            "Collecting pydantic-settings<3.0.0,>=2.4.0 (from langchain-community)\n",
            "  Downloading pydantic_settings-2.8.1-py3-none-any.whl.metadata (3.5 kB)\n",
            "Collecting httpx-sse<1.0.0,>=0.4.0 (from langchain-community)\n",
            "  Downloading httpx_sse-0.4.0-py3-none-any.whl.metadata (9.0 kB)\n",
            "Requirement already satisfied: numpy<3,>=1.26.2 in /usr/local/lib/python3.11/dist-packages (from langchain-community) (2.0.2)\n",
            "Requirement already satisfied: groq<1,>=0.4.1 in /usr/local/lib/python3.11/dist-packages (from langchain-groq) (0.20.0)\n",
            "Requirement already satisfied: aiohappyeyeballs>=2.3.0 in /usr/local/lib/python3.11/dist-packages (from aiohttp<4.0.0,>=3.8.3->langchain-community) (2.6.1)\n",
            "Requirement already satisfied: aiosignal>=1.1.2 in /usr/local/lib/python3.11/dist-packages (from aiohttp<4.0.0,>=3.8.3->langchain-community) (1.3.2)\n",
            "Requirement already satisfied: attrs>=17.3.0 in /usr/local/lib/python3.11/dist-packages (from aiohttp<4.0.0,>=3.8.3->langchain-community) (25.3.0)\n",
            "Requirement already satisfied: frozenlist>=1.1.1 in /usr/local/lib/python3.11/dist-packages (from aiohttp<4.0.0,>=3.8.3->langchain-community) (1.5.0)\n",
            "Requirement already satisfied: multidict<7.0,>=4.5 in /usr/local/lib/python3.11/dist-packages (from aiohttp<4.0.0,>=3.8.3->langchain-community) (6.2.0)\n",
            "Requirement already satisfied: propcache>=0.2.0 in /usr/local/lib/python3.11/dist-packages (from aiohttp<4.0.0,>=3.8.3->langchain-community) (0.3.0)\n",
            "Requirement already satisfied: yarl<2.0,>=1.17.0 in /usr/local/lib/python3.11/dist-packages (from aiohttp<4.0.0,>=3.8.3->langchain-community) (1.18.3)\n",
            "Collecting marshmallow<4.0.0,>=3.18.0 (from dataclasses-json<0.7,>=0.5.7->langchain-community)\n",
            "  Downloading marshmallow-3.26.1-py3-none-any.whl.metadata (7.3 kB)\n",
            "Collecting typing-inspect<1,>=0.4.0 (from dataclasses-json<0.7,>=0.5.7->langchain-community)\n",
            "  Downloading typing_inspect-0.9.0-py3-none-any.whl.metadata (1.5 kB)\n",
            "Requirement already satisfied: anyio<5,>=3.5.0 in /usr/local/lib/python3.11/dist-packages (from groq<1,>=0.4.1->langchain-groq) (4.9.0)\n",
            "Requirement already satisfied: distro<2,>=1.7.0 in /usr/local/lib/python3.11/dist-packages (from groq<1,>=0.4.1->langchain-groq) (1.9.0)\n",
            "Requirement already satisfied: httpx<1,>=0.23.0 in /usr/local/lib/python3.11/dist-packages (from groq<1,>=0.4.1->langchain-groq) (0.28.1)\n",
            "Requirement already satisfied: sniffio in /usr/local/lib/python3.11/dist-packages (from groq<1,>=0.4.1->langchain-groq) (1.3.1)\n",
            "Requirement already satisfied: typing-extensions<5,>=4.10 in /usr/local/lib/python3.11/dist-packages (from groq<1,>=0.4.1->langchain-groq) (4.12.2)\n",
            "Requirement already satisfied: jsonpatch<2.0,>=1.33 in /usr/local/lib/python3.11/dist-packages (from langchain-core<1.0.0,>=0.3.45->langchain) (1.33)\n",
            "Requirement already satisfied: packaging<25,>=23.2 in /usr/local/lib/python3.11/dist-packages (from langchain-core<1.0.0,>=0.3.45->langchain) (24.2)\n",
            "Requirement already satisfied: orjson<4.0.0,>=3.9.14 in /usr/local/lib/python3.11/dist-packages (from langsmith<0.4,>=0.1.17->langchain) (3.10.15)\n",
            "Requirement already satisfied: requests-toolbelt<2.0.0,>=1.0.0 in /usr/local/lib/python3.11/dist-packages (from langsmith<0.4,>=0.1.17->langchain) (1.0.0)\n",
            "Requirement already satisfied: zstandard<0.24.0,>=0.23.0 in /usr/local/lib/python3.11/dist-packages (from langsmith<0.4,>=0.1.17->langchain) (0.23.0)\n",
            "Requirement already satisfied: annotated-types>=0.6.0 in /usr/local/lib/python3.11/dist-packages (from pydantic<3.0.0,>=2.7.4->langchain) (0.7.0)\n",
            "Requirement already satisfied: pydantic-core==2.27.2 in /usr/local/lib/python3.11/dist-packages (from pydantic<3.0.0,>=2.7.4->langchain) (2.27.2)\n",
            "Collecting python-dotenv>=0.21.0 (from pydantic-settings<3.0.0,>=2.4.0->langchain-community)\n",
            "  Downloading python_dotenv-1.1.0-py3-none-any.whl.metadata (24 kB)\n",
            "Requirement already satisfied: charset-normalizer<4,>=2 in /usr/local/lib/python3.11/dist-packages (from requests<3,>=2->langchain) (3.4.1)\n",
            "Requirement already satisfied: idna<4,>=2.5 in /usr/local/lib/python3.11/dist-packages (from requests<3,>=2->langchain) (3.10)\n",
            "Requirement already satisfied: urllib3<3,>=1.21.1 in /usr/local/lib/python3.11/dist-packages (from requests<3,>=2->langchain) (2.3.0)\n",
            "Requirement already satisfied: certifi>=2017.4.17 in /usr/local/lib/python3.11/dist-packages (from requests<3,>=2->langchain) (2025.1.31)\n",
            "Requirement already satisfied: greenlet!=0.4.17 in /usr/local/lib/python3.11/dist-packages (from SQLAlchemy<3,>=1.4->langchain) (3.1.1)\n",
            "Requirement already satisfied: httpcore==1.* in /usr/local/lib/python3.11/dist-packages (from httpx<1,>=0.23.0->groq<1,>=0.4.1->langchain-groq) (1.0.7)\n",
            "Requirement already satisfied: h11<0.15,>=0.13 in /usr/local/lib/python3.11/dist-packages (from httpcore==1.*->httpx<1,>=0.23.0->groq<1,>=0.4.1->langchain-groq) (0.14.0)\n",
            "Requirement already satisfied: jsonpointer>=1.9 in /usr/local/lib/python3.11/dist-packages (from jsonpatch<2.0,>=1.33->langchain-core<1.0.0,>=0.3.45->langchain) (3.0.0)\n",
            "Collecting mypy-extensions>=0.3.0 (from typing-inspect<1,>=0.4.0->dataclasses-json<0.7,>=0.5.7->langchain-community)\n",
            "  Downloading mypy_extensions-1.0.0-py3-none-any.whl.metadata (1.1 kB)\n",
            "Downloading langchain_community-0.3.20-py3-none-any.whl (2.5 MB)\n",
            "\u001b[2K   \u001b[90m━━━━━━━━━━━━━━━━━━━━━━━━━━━━━━━━━━━━━━━━\u001b[0m \u001b[32m2.5/2.5 MB\u001b[0m \u001b[31m28.4 MB/s\u001b[0m eta \u001b[36m0:00:00\u001b[0m\n",
            "\u001b[?25hDownloading dataclasses_json-0.6.7-py3-none-any.whl (28 kB)\n",
            "Downloading httpx_sse-0.4.0-py3-none-any.whl (7.8 kB)\n",
            "Downloading pydantic_settings-2.8.1-py3-none-any.whl (30 kB)\n",
            "Downloading marshmallow-3.26.1-py3-none-any.whl (50 kB)\n",
            "\u001b[2K   \u001b[90m━━━━━━━━━━━━━━━━━━━━━━━━━━━━━━━━━━━━━━━━\u001b[0m \u001b[32m50.9/50.9 kB\u001b[0m \u001b[31m3.8 MB/s\u001b[0m eta \u001b[36m0:00:00\u001b[0m\n",
            "\u001b[?25hDownloading python_dotenv-1.1.0-py3-none-any.whl (20 kB)\n",
            "Downloading typing_inspect-0.9.0-py3-none-any.whl (8.8 kB)\n",
            "Downloading mypy_extensions-1.0.0-py3-none-any.whl (4.7 kB)\n",
            "Installing collected packages: python-dotenv, mypy-extensions, marshmallow, httpx-sse, typing-inspect, pydantic-settings, dataclasses-json, langchain-community\n",
            "Successfully installed dataclasses-json-0.6.7 httpx-sse-0.4.0 langchain-community-0.3.20 marshmallow-3.26.1 mypy-extensions-1.0.0 pydantic-settings-2.8.1 python-dotenv-1.1.0 typing-inspect-0.9.0\n"
          ]
        }
      ]
    },
    {
      "cell_type": "code",
      "source": [
        "from langchain_groq import ChatGroq\n",
        "from langchain.agents import AgentType, initialize_agent, load_tools\n",
        "from langchain.tools import Tool"
      ],
      "metadata": {
        "id": "_JimV-MqCYur"
      },
      "execution_count": 41,
      "outputs": []
    },
    {
      "cell_type": "code",
      "source": [
        "groq_key = \"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\"\n",
        "serp_key = \"6949952e6ede49f114caff1a02612ec0bd7f3b907ff2e270f50d6088becc6f2f\""
      ],
      "metadata": {
        "id": "rtVjMcWJHBP4"
      },
      "execution_count": 42,
      "outputs": []
    },
    {
      "cell_type": "code",
      "source": [
        "llm = ChatGroq(api_key=groq_key, model_name=\"llama-3.3-70b-versatile\")"
      ],
      "metadata": {
        "id": "sYZLDf3SHNU9"
      },
      "execution_count": 43,
      "outputs": []
    },
    {
      "cell_type": "code",
      "source": [
        "tools = load_tools([\"serpapi\"], serpapi_api_key=serp_key)"
      ],
      "metadata": {
        "id": "8Y__dlv9HQFI"
      },
      "execution_count": 44,
      "outputs": []
    },
    {
      "cell_type": "code",
      "source": [
        "agent = initialize_agent(\n",
        "    tools=tools,llm=llm,agent=AgentType.ZERO_SHOT_REACT_DESCRIPTION,verbose=True\n",
        ")"
      ],
      "metadata": {
        "id": "4AZgTPKjHT3X",
        "colab": {
          "base_uri": "https://localhost:8080/"
        },
        "outputId": "cf3de1c2-c303-4030-a3dc-4b43682f0661"
      },
      "execution_count": 45,
      "outputs": [
        {
          "output_type": "stream",
          "name": "stderr",
          "text": [
            "<ipython-input-45-e4c86c871b89>:1: LangChainDeprecationWarning: LangChain agents will continue to be supported, but it is recommended for new use cases to be built with LangGraph. LangGraph offers a more flexible and full-featured framework for building agents, including support for tool-calling, persistence of state, and human-in-the-loop workflows. For details, refer to the `LangGraph documentation <https://langchain-ai.github.io/langgraph/>`_ as well as guides for `Migrating from AgentExecutor <https://python.langchain.com/docs/how_to/migrate_agent/>`_ and LangGraph's `Pre-built ReAct agent <https://langchain-ai.github.io/langgraph/how-tos/create-react-agent/>`_.\n",
            "  agent = initialize_agent(\n"
          ]
        }
      ]
    },
    {
      "cell_type": "code",
      "source": [
        "response = agent.invoke(\"Can you tell me who won recent cricket champions trophy??\")\n",
        "print(response)"
      ],
      "metadata": {
        "colab": {
          "base_uri": "https://localhost:8080/"
        },
        "id": "EiLP7YCoHa-z",
        "outputId": "d9d0c34b-8048-48ec-9b2f-a300104cd53d",
        "collapsed": true
      },
      "execution_count": 46,
      "outputs": [
        {
          "output_type": "stream",
          "name": "stdout",
          "text": [
            "\n",
            "\n",
            "\u001b[1m> Entering new AgentExecutor chain...\u001b[0m\n",
            "\u001b[32;1m\u001b[1;3mTo find out who won the recent cricket champions trophy, I should first search for the latest information on the cricket champions trophy.\n",
            "\n",
            "Action: Search\n",
            "Action Input: recent cricket champions trophy winner\u001b[0m\n",
            "Observation: \u001b[36;1m\u001b[1;3m{'title': 'ICC Champions Trophy', 'games': [{'tournament': 'ICC Champions Trophy', 'venue': 'Dubai International Stadium', 'venue_kgmid': '/m/054kpj5', 'date': 'Mar 9', 'teams': [{'name': 'New Zealand', 'score': '251/7 (50)', 'kgmid': '/m/02fbb5', 'thumbnail': 'https://serpapi.com/searches/67e79d8abdd7f4e5cda32e0e/images/e88f6ee25bcb67ed0f1d2a25c58c0e6fc7966e79112104a064acf59b0a87df2825ba1b80a588cb3372911f878bf123da.png'}, {'name': 'India', 'score': '254/6 (49)', 'kgmid': '/m/024nj1', 'thumbnail': 'https://serpapi.com/searches/67e79d8abdd7f4e5cda32e0e/images/e88f6ee25bcb67ed0f1d2a25c58c0e6fc7966e79112104a06139da32417a52896c0e21f939cc949daac0ef8cb3c8739c.png'}], 'status': 'IND won by 4 wickets (6 balls left)'}, {'tournament': 'ICC Champions Trophy', 'venue': 'Gaddafi Stadium', 'venue_kgmid': '/m/05jqtw', 'date': 'Mar 5', 'teams': [{'name': 'New Zealand', 'score': '362/6 (50)', 'kgmid': '/m/02fbb5', 'thumbnail': 'https://serpapi.com/searches/67e79d8abdd7f4e5cda32e0e/images/e88f6ee25bcb67ed0f1d2a25c58c0e6f6a407ad135d6dc6315d307179afddd4f189fc215600d1995f7d729530c418c2f.png'}, {'name': 'South Africa', 'score': '312/9 (50)', 'kgmid': '/m/038zy5', 'thumbnail': 'https://serpapi.com/searches/67e79d8abdd7f4e5cda32e0e/images/e88f6ee25bcb67ed0f1d2a25c58c0e6f6a407ad135d6dc632e2917c986ad43cddc2b1810f1d84c9ae9fb85f27a19d8a3.png'}], 'status': 'NZ won by 50 runs'}, {'tournament': 'ICC Champions Trophy', 'venue': 'Dubai International Stadium', 'venue_kgmid': '/m/054kpj5', 'date': 'Mar 4', 'teams': [{'name': 'Australia', 'score': '264 (49.3)', 'kgmid': '/m/020wyp', 'thumbnail': 'https://serpapi.com/searches/67e79d8abdd7f4e5cda32e0e/images/e88f6ee25bcb67ed0f1d2a25c58c0e6fea4376400268ebd7bf40025605f75ba8ff5b62d21a34d9631421a7745137aef3.png'}, {'name': 'India', 'score': '267/6 (48.1)', 'kgmid': '/m/024nj1', 'thumbnail': 'https://serpapi.com/searches/67e79d8abdd7f4e5cda32e0e/images/e88f6ee25bcb67ed0f1d2a25c58c0e6fea4376400268ebd7fbf0713236b06024cb703d73ae1e462993a84eb12f86a1ad.png'}], 'status': 'IND won by 4 wickets (11 balls left)'}, {'tournament': 'ICC Champions Trophy', 'venue': 'Dubai International Stadium', 'venue_kgmid': '/m/054kpj5', 'date': 'Mar 2', 'teams': [{'name': 'India', 'score': '249/9 (50)', 'kgmid': '/m/024nj1', 'thumbnail': 'https://serpapi.com/searches/67e79d8abdd7f4e5cda32e0e/images/e88f6ee25bcb67ed0f1d2a25c58c0e6fd95bfc5f3894710bea42425dc60517d1e9308c0f884faa90dddd31c2cf595f98.png'}, {'name': 'New Zealand', 'score': '205 (45.3)', 'kgmid': '/m/02fbb5', 'thumbnail': 'https://serpapi.com/searches/67e79d8abdd7f4e5cda32e0e/images/e88f6ee25bcb67ed0f1d2a25c58c0e6fd95bfc5f3894710b4be5fc138427ce921fee0db585adfff4538bc7742f1ee7f0.png'}], 'status': 'IND won by 44 runs'}, {'tournament': 'ICC Champions Trophy', 'venue': 'National Bank Stadium', 'venue_kgmid': '/m/09ynpg', 'date': 'Mar 1', 'teams': [{'name': 'England', 'score': '179 (38.2)', 'kgmid': '/m/038zh6', 'thumbnail': 'https://serpapi.com/searches/67e79d8abdd7f4e5cda32e0e/images/e88f6ee25bcb67ed0f1d2a25c58c0e6fd4d24348b943e3f6010152787fec6fb2dc710b335ac21cc928a079a51dde1bc8.png'}, {'name': 'South Africa', 'score': '181/3 (29.1)', 'kgmid': '/m/038zy5', 'thumbnail': 'https://serpapi.com/searches/67e79d8abdd7f4e5cda32e0e/images/e88f6ee25bcb67ed0f1d2a25c58c0e6fd4d24348b943e3f6416f026f38b100cabae1d83304a09242b7849b423397276c.png'}], 'status': 'SA won by 7 wickets'}, {'tournament': 'ICC Champions Trophy', 'venue': 'Gaddafi Stadium', 'venue_kgmid': '/m/05jqtw', 'date': 'Feb 28', 'teams': [{'name': 'Afghanistan', 'score': '273 (50)', 'kgmid': '/m/076tnc', 'thumbnail': 'https://serpapi.com/searches/67e79d8abdd7f4e5cda32e0e/images/e88f6ee25bcb67ed0f1d2a25c58c0e6f677777a068feaa456f374c42b94ec15e1a6a0e1637abe13fa5d553451b5599d5.png'}, {'name': 'Australia', 'score': '109/1 (12.5)', 'kgmid': '/m/020wyp', 'thumbnail': 'https://serpapi.com/searches/67e79d8abdd7f4e5cda32e0e/images/e88f6ee25bcb67ed0f1d2a25c58c0e6f677777a068feaa4565d0bfbfdc4a33b23a2b2e9f5445b96cac0dc9ab60f1e973.png'}], 'status': 'No result'}]}\u001b[0m\n",
            "Thought:\u001b[32;1m\u001b[1;3mThe observation provided does not explicitly mention the winner of the recent cricket champions trophy. However, it provides information about various matches played in the tournament.\n",
            "\n",
            "Action: Search\n",
            "Action Input: recent cricket champions trophy winner 2023 or 2024\u001b[0m\n",
            "Observation: \u001b[36;1m\u001b[1;3m[' entity_type: related_questions.', 'Reigning champions India went on to win the title outright in 2013 and 2025 after beating England and New Zealand in the finals, respectively.', 'India are the current champions after winning the 2025 edition. Contents. 1 Overview. 1.1 ICC Knock Out Trophy (1998–2000); 1.2 ICC Champions Trophy (2002–2017) ...', 'New Zealand won by 50 runs. RESULT. 1st Semi-Final (D/N), Dubai (DICS), March ... ICC Champions Trophy 2024/25See All · Most Runs · Most Wickets · High Scores.', 'India clinched its third title after beating New Zealand by four wickets in the summit clash of the competition. India had last clinched the ...', 'Below is the list of Champions Trophy winners from 1998 to 2025, showcasing the countries that have dominated the tournament over the years.', 'India became the only team to win the Champions Trophy three times in 2002, 2013, and 2025. Australia won the ICC Championship Trophy two times, ...', 'India has won another global cricket tournament with a four-wicket victory over New Zealand in the Champions Trophy final.', 'The 2025 ICC Champions Trophy was the ninth edition of the ICC Champions Trophy. It was hosted by Pakistan Cricket Board from 19 February to 9 March 2025 ...', \"ICC Champions Trophy 2024/25 · Fixtures and Results. ICC Champions Trophy 2025 ... New Zealand won by 5 wickets (with 23 balls remaining). Tue, 25 Feb '25.\", 'New Zealand secured their first and only ICC Champions Trophy, defeating India. · Winning captain: Stephen Fleming · Runner-up captain: Sourav ...']\u001b[0m\n",
            "Thought:\u001b[32;1m\u001b[1;3mThought: Based on the observation, it appears that India won the recent cricket champions trophy in 2025 by defeating New Zealand in the final.\n",
            "\n",
            "Action: None\n",
            "Action Input: None\u001b[0m\n",
            "Observation: None is not a valid tool, try one of [Search].\n",
            "Thought:\u001b[32;1m\u001b[1;3mThought: I now know the final answer\n",
            "Final Answer: India won the recent cricket champions trophy in 2025 by defeating New Zealand in the final.\u001b[0m\n",
            "\n",
            "\u001b[1m> Finished chain.\u001b[0m\n",
            "{'input': 'Can you tell me who won recent cricket champions trophy??', 'output': 'India won the recent cricket champions trophy in 2025 by defeating New Zealand in the final.'}\n"
          ]
        }
      ]
    },
    {
      "cell_type": "markdown",
      "source": [
        "#Chains\n"
      ],
      "metadata": {
        "id": "aP8ivYNFRhOW"
      }
    },
    {
      "cell_type": "code",
      "source": [
        "# Example_no_1(BASIC)\n",
        "from langchain.prompts import PromptTemplate\n",
        "prompt= PromptTemplate(input_variables=\"Product\",template=\"what is the good name for the company that make {Product} give only one name\")\n",
        "prompt1=prompt.format(Product=\"wine\")\n"
      ],
      "metadata": {
        "id": "tBdVpX1JHbVC"
      },
      "execution_count": 47,
      "outputs": []
    },
    {
      "cell_type": "code",
      "source": [
        "from langchain.chains import LLMChain\n",
        "chain = LLMChain(llm=llm, prompt=prompt,verbose=True)\n",
        "result = chain.run({\"Product\": \"wine\"})\n",
        "print(result)"
      ],
      "metadata": {
        "colab": {
          "base_uri": "https://localhost:8080/"
        },
        "collapsed": true,
        "id": "1CI6zRxvSZAt",
        "outputId": "f4c396ff-1775-4858-a36e-db5e23cbeb95"
      },
      "execution_count": 48,
      "outputs": [
        {
          "output_type": "stream",
          "name": "stdout",
          "text": [
            "\n",
            "\n",
            "\u001b[1m> Entering new LLMChain chain...\u001b[0m\n",
            "Prompt after formatting:\n",
            "\u001b[32;1m\u001b[1;3mwhat is the good name for the company that make wine give only one name\u001b[0m\n"
          ]
        },
        {
          "output_type": "stream",
          "name": "stderr",
          "text": [
            "<ipython-input-48-69f03da6a67f>:2: LangChainDeprecationWarning: The class `LLMChain` was deprecated in LangChain 0.1.17 and will be removed in 1.0. Use :meth:`~RunnableSequence, e.g., `prompt | llm`` instead.\n",
            "  chain = LLMChain(llm=llm, prompt=prompt,verbose=True)\n",
            "<ipython-input-48-69f03da6a67f>:3: LangChainDeprecationWarning: The method `Chain.run` was deprecated in langchain 0.1.0 and will be removed in 1.0. Use :meth:`~invoke` instead.\n",
            "  result = chain.run({\"Product\": \"wine\"})\n"
          ]
        },
        {
          "output_type": "stream",
          "name": "stdout",
          "text": [
            "\n",
            "\u001b[1m> Finished chain.\u001b[0m\n",
            "Vinterra\n"
          ]
        }
      ]
    },
    {
      "cell_type": "code",
      "source": [
        "from langchain.chains import LLMChain, SequentialChain"
      ],
      "metadata": {
        "id": "Dl-oX693byAv"
      },
      "execution_count": 49,
      "outputs": []
    },
    {
      "cell_type": "code",
      "source": [
        "title_prompt = PromptTemplate(\n",
        "    input_variables=[\"topic\"],\n",
        "    template=\"Suggest a catchy blog title for this topic: {topic}\"\n",
        ")\n",
        "title_chain = LLMChain(\n",
        "    llm=llm,\n",
        "    prompt=title_prompt,\n",
        "    output_key=\"title\"\n",
        ")\n",
        "outline_prompt = PromptTemplate(\n",
        "    input_variables=[\"title\"],\n",
        "    template=\"Create a blog outline based on this title: {title}\"\n",
        ")\n",
        "outline_chain = LLMChain(\n",
        "    llm=llm,\n",
        "    prompt=outline_prompt,\n",
        "    output_key=\"outline\"\n",
        ")"
      ],
      "metadata": {
        "id": "CSDhxShjcAbV"
      },
      "execution_count": 50,
      "outputs": []
    },
    {
      "cell_type": "code",
      "source": [
        "sequential_chain = SequentialChain(\n",
        "    chains=[title_chain, outline_chain],\n",
        "    input_variables=[\"topic\"],\n",
        "    output_variables=[\"title\", \"outline\"],\n",
        "    verbose=True\n",
        ")\n",
        "result = sequential_chain.invoke({\"topic\": \"The Future of AI in Healthcare\"})\n",
        "print(result)"
      ],
      "metadata": {
        "colab": {
          "base_uri": "https://localhost:8080/"
        },
        "id": "6ZvoJjgOdDW_",
        "outputId": "884fefcc-e722-402f-d073-4d685fd46e2d"
      },
      "execution_count": 51,
      "outputs": [
        {
          "output_type": "stream",
          "name": "stdout",
          "text": [
            "\n",
            "\n",
            "\u001b[1m> Entering new SequentialChain chain...\u001b[0m\n",
            "\n",
            "\u001b[1m> Finished chain.\u001b[0m\n",
            "{'topic': 'The Future of AI in Healthcare', 'title': 'Here are a few suggestions for a catchy blog title on the topic of \"The Future of AI in Healthcare\":\\n\\n1. **\"Healing Bytes: The AI Revolution in Healthcare\"**\\n2. **\"Medicine Rebooted: How AI is Transforming Healthcare\"**\\n3. **\"The Future of Care: AI\\'s Impact on Healthcare\"**\\n4. **\"AI for Better Health: The Next Frontier in Medicine\"**\\n5. **\"Prescribing Progress: The Role of AI in Shaping Healthcare\\'s Future\"**\\n6. **\"Smart Medicine: The Convergence of AI and Healthcare\"**\\n7. **\"Revolutionizing Recovery: The Power of AI in Healthcare\"**\\n8. **\"From Code to Cure: The Emerging Role of AI in Healthcare\"**\\n9. **\"Healthcare 2.0: The AI-Driven Future of Medicine\"**\\n10. **\"AI in the Clinic: The Future of Personalized Medicine\"**\\n\\nChoose the one that resonates the most with your blog\\'s tone and style, or feel free to modify any of these suggestions to fit your needs.', 'outline': 'Based on the provided title suggestions, I\\'ll create a blog outline for the title: **\"Healing Bytes: The AI Revolution in Healthcare\"**\\n\\n**Blog Outline: \"Healing Bytes: The AI Revolution in Healthcare\"**\\n\\nI. **Introduction**\\n  * Brief overview of the current state of healthcare and the potential of AI\\n  * Thesis statement: The integration of AI in healthcare is revolutionizing the industry, improving patient outcomes, and transforming the future of medicine\\n\\nII. **The Current State of AI in Healthcare**\\n  * Overview of existing AI applications in healthcare (e.g., medical imaging, disease diagnosis, patient data analysis)\\n  * Examples of successful AI implementations in healthcare (e.g., chatbots, virtual assistants, predictive analytics)\\n\\nIII. **The Future of AI in Healthcare: Emerging Trends and Technologies**\\n  * Discussion of emerging AI technologies (e.g., machine learning, natural language processing, computer vision)\\n  * Exploration of potential applications (e.g., personalized medicine, robotic surgery, AI-assisted clinical decision-making)\\n\\nIV. **Benefits of AI in Healthcare**\\n  * Improved patient outcomes and quality of care\\n  * Enhanced efficiency and productivity in healthcare operations\\n  * Increased accessibility and affordability of healthcare services\\n\\nV. **Challenges and Limitations of AI in Healthcare**\\n  * Data privacy and security concerns\\n  * Regulatory and ethical considerations\\n  * Addressing potential biases and errors in AI decision-making\\n\\nVI. **Real-World Examples and Case Studies**\\n  * In-depth analysis of successful AI-powered healthcare projects and initiatives\\n  * Lessons learned and best practices for implementing AI in healthcare\\n\\nVII. **Conclusion**\\n  * Recap of the AI revolution in healthcare and its potential to transform the industry\\n  * Final thoughts on the future of AI in healthcare and the importance of continued innovation and investment in this field.\\n\\nThis outline provides a comprehensive structure for exploring the topic of AI in healthcare, covering the current state, emerging trends, benefits, challenges, and real-world examples. Feel free to modify it to fit your specific needs and writing style.'}\n"
          ]
        }
      ]
    },
    {
      "cell_type": "markdown",
      "source": [
        "#Document Loader\n"
      ],
      "metadata": {
        "id": "-OHqXL_chGoB"
      }
    },
    {
      "cell_type": "code",
      "source": [
        "!pip install pypdf"
      ],
      "metadata": {
        "colab": {
          "base_uri": "https://localhost:8080/"
        },
        "collapsed": true,
        "id": "jEwjqGTFhEeL",
        "outputId": "448c1afa-7e0c-41b9-db03-f8f51f9a2d52"
      },
      "execution_count": 52,
      "outputs": [
        {
          "output_type": "stream",
          "name": "stdout",
          "text": [
            "Collecting pypdf\n",
            "  Downloading pypdf-5.4.0-py3-none-any.whl.metadata (7.3 kB)\n",
            "Downloading pypdf-5.4.0-py3-none-any.whl (302 kB)\n",
            "\u001b[2K   \u001b[90m━━━━━━━━━━━━━━━━━━━━━━━━━━━━━━━━━━━━━━━━\u001b[0m \u001b[32m302.3/302.3 kB\u001b[0m \u001b[31m4.7 MB/s\u001b[0m eta \u001b[36m0:00:00\u001b[0m\n",
            "\u001b[?25hInstalling collected packages: pypdf\n",
            "Successfully installed pypdf-5.4.0\n"
          ]
        }
      ]
    },
    {
      "cell_type": "code",
      "source": [
        "# from langchain_community.document_loaders import PyPDFLoader\n",
        "\n",
        "# loader = PyPDFLoader(\"/content/Python_100_Questions_and_Answers.pdf\")\n",
        "# pages = loader.load_and_split()"
      ],
      "metadata": {
        "id": "MVg9H2KNhVpc"
      },
      "execution_count": 54,
      "outputs": []
    },
    {
      "cell_type": "markdown",
      "source": [
        "#Memory\n"
      ],
      "metadata": {
        "id": "H7D22_ntvY-6"
      }
    },
    {
      "cell_type": "code",
      "source": [
        "from langchain.memory import ConversationBufferMemory\n",
        "memory=ConversationBufferMemory()\n",
        "title_prompt = PromptTemplate(\n",
        "    input_variables=[\"topic\"],\n",
        "    template=\"Suggest a catchy blog title for this topic: {topic}\"\n",
        ")\n",
        "title_chain = LLMChain(\n",
        "    llm=llm,prompt=title_prompt,memory=memory\n",
        ")\n"
      ],
      "metadata": {
        "id": "lQAP1V-EhvZ_",
        "colab": {
          "base_uri": "https://localhost:8080/"
        },
        "outputId": "a188e72e-d79c-4b17-88db-ecb48a817688"
      },
      "execution_count": 58,
      "outputs": [
        {
          "output_type": "stream",
          "name": "stderr",
          "text": [
            "<ipython-input-58-676f71fbf776>:2: LangChainDeprecationWarning: Please see the migration guide at: https://python.langchain.com/docs/versions/migrating_memory/\n",
            "  memory=ConversationBufferMemory()\n"
          ]
        }
      ]
    },
    {
      "cell_type": "code",
      "source": [
        "print(title_chain.run(\"wines\").strip())"
      ],
      "metadata": {
        "colab": {
          "base_uri": "https://localhost:8080/"
        },
        "id": "lxCaAVH4wYYo",
        "outputId": "35513d42-9fd0-4074-83b0-18ceb86f35ff"
      },
      "execution_count": 63,
      "outputs": [
        {
          "output_type": "stream",
          "name": "stdout",
          "text": [
            "Here are a few suggestions for a catchy blog title about wines:\n",
            "\n",
            "1. **Grape Expectations**: A playful name that references the classic novel \"Great Expectations\" while incorporating a wine-related pun.\n",
            "2. **The Wine Wanderer**: This title evokes a sense of adventure and exploration, perfect for a blog that delves into the world of wine.\n",
            "3. **Vino Vibes**: A fun, laid-back title that captures the relaxed, social atmosphere often associated with wine.\n",
            "4. **The Wine Diaries**: A personal, introspective title that suggests the blog will be a collection of thoughts, experiences, and insights about wine.\n",
            "5. **Uncorked**: A simple, attention-grabbing title that references the act of opening a bottle of wine, with a hint of excitement and discovery.\n",
            "6. **Wine Wise**: A title that implies the blog will be a trusted source of knowledge and expertise about wine.\n",
            "7. **The Grape Gazette**: A playful, old-fashioned title that suggests a blog that's informative, engaging, and maybe even a little bit quirky.\n",
            "8. **Sip, Savor, Repeat**: A catchy title that encourages readers to slow down, appreciate the flavors and aromas of wine, and come back for more.\n",
            "\n",
            "Which one do you like best?\n"
          ]
        }
      ]
    },
    {
      "cell_type": "code",
      "source": [
        "print(title_chain.run(\"laptops\").strip())"
      ],
      "metadata": {
        "colab": {
          "base_uri": "https://localhost:8080/"
        },
        "id": "R7f_bLwGwcoF",
        "outputId": "7c7aac0c-f6e6-4924-c4a5-fecfb1ebb2f1"
      },
      "execution_count": 64,
      "outputs": [
        {
          "output_type": "stream",
          "name": "stdout",
          "text": [
            "Here are a few ideas for a catchy blog title about laptops:\n",
            "\n",
            "1. **\"The Laptop Lowdown\"** - a playful name that implies the blog will give readers the inside scoop on laptops.\n",
            "2. **\"Byte-Sized Reviews\"** - a clever title that references the digital world of laptops and suggests the blog will offer concise, bite-sized reviews.\n",
            "3. **\"Laptop Lounge\"** - a relaxed, inviting title that implies the blog is a comfortable space to learn about laptops.\n",
            "4. **\"The Laptop Diaries\"** - a personal, storytelling-style title that suggests the blog will share the author's experiences and insights about laptops.\n",
            "5. **\"Power Up!\"** - a energetic, motivational title that implies the blog will help readers get the most out of their laptops.\n",
            "6. **\"Laptop Life\"** - a simple, straightforward title that suggests the blog will explore the ways laptops fit into our daily lives.\n",
            "7. **\"The Tech Trek\"** - a title that implies the blog will take readers on a journey of discovery about laptops and technology.\n",
            "8. **\"Laptop Insider\"** - a title that implies the blog will offer exclusive, insider knowledge about laptops.\n",
            "\n",
            "Which one do you like best?\n"
          ]
        }
      ]
    },
    {
      "cell_type": "code",
      "source": [
        "print(title_chain.memory.buffer.strip())"
      ],
      "metadata": {
        "colab": {
          "base_uri": "https://localhost:8080/"
        },
        "collapsed": true,
        "id": "fdEF_ONiwzfT",
        "outputId": "80748644-e74d-4cbe-ec82-f7e0ec87257b"
      },
      "execution_count": 68,
      "outputs": [
        {
          "output_type": "stream",
          "name": "stdout",
          "text": [
            "Human: Ai\n",
            "AI: Here are some catchy blog title ideas for the topic of AI:\n",
            "\n",
            "1. **\"Rise of the Machines: Exploring the Future of AI\"**\n",
            "2. **\"AI Insider: Uncovering the Latest Trends and Innovations\"**\n",
            "3. **\"The AI Revolution: How Artificial Intelligence is Changing Everything\"**\n",
            "4. **\"Byte-Sized Intelligence: The World of Artificial Intelligence\"**\n",
            "5. **\"Smart Machines, Smarter Humans: The AI Blog\"**\n",
            "6. **\"The AI Chronicles: Stories from the Frontiers of Artificial Intelligence\"**\n",
            "7. **\"Intelligent Insights: Unraveling the Mysteries of AI\"**\n",
            "8. **\"AI Unplugged: Uncovering the Secrets of Artificial Intelligence\"**\n",
            "9. **\"Machine Learning Mastery: The Ultimate AI Blog\"**\n",
            "10. **\"The Future is Now: Exploring the Possibilities of AI\"**\n",
            "\n",
            "Which one do you like the most? Or would you like me to come up with more options?\n",
            "Human: Ai\n",
            "AI: Here are a few catchy blog title ideas for the topic of AI:\n",
            "\n",
            "1. **\"Machine Mastery: Exploring the Frontiers of Artificial Intelligence\"**\n",
            "2. **\"The AI Advantage: How Machines Are Changing Our World\"**\n",
            "3. **\"Intelligent Insights: Uncovering the Power of Artificial Intelligence\"**\n",
            "4. **\"AI Unplugged: The Future of Tech and Beyond\"**\n",
            "5. **\"Smart Machines, Smarter Humans: The AI Revolution\"**\n",
            "6. **\"Code Red: The Rise of Artificial Intelligence and Its Impact\"**\n",
            "7. **\"The AI Chronicles: Stories from the Cutting Edge\"**\n",
            "8. **\"Augmenting Humanity: The Intersection of AI and Society\"**\n",
            "9. **\"Mind Over Machine: The Future of Artificial Intelligence\"**\n",
            "10. **\"Synapse: Where Human Ingenuity Meets Artificial Intelligence\"**\n",
            "\n",
            "Choose the one that resonates with your blog's tone and style, or feel free to modify any of these suggestions to fit your needs.\n",
            "Human: Ai\n",
            "AI: Here are some catchy blog title suggestions for the topic \"Ai\":\n",
            "\n",
            "1. **\"Rise of the Machines: Exploring the Future of Ai\"**\n",
            "2. **\"Ai Revolution: Transforming Industries and Lives\"**\n",
            "3. **\"The Intelligent Insight: Uncovering the Power of Ai\"**\n",
            "4. **\"Ai Unplugged: The Latest Trends and Innovations\"**\n",
            "5. **\"Mind Over Machine: The Cutting Edge of Ai Technology\"**\n",
            "6. **\"Artificial Intelligence Unleashed: The Good, the Bad, and the Future\"**\n",
            "7. **\"The Ai Advantage: How Machine Learning is Changing the Game\"**\n",
            "8. **\"Digital Dawn: The Ai Era and Beyond\"**\n",
            "9. **\"Smarter Than You Think: The Amazing World of Ai\"**\n",
            "10. **\"Ai: The Next Frontier of Human Innovation\"**\n",
            "\n",
            "Which one do you like the most? Or would you like me to suggest more options?\n",
            "Human: what is 2+2\n",
            "AI: A simple yet intriguing topic. Here are a few suggestions for a catchy blog title:\n",
            "\n",
            "1. **\"The Ultimate Question: Uncovering the Mystery of 2+2\"**\n",
            "2. **\"Basic Addition: The Answer You Never Knew You Needed\"**\n",
            "3. **\"2+2: The Simple Equation That's Not So Simple\"**\n",
            "4. **\"Math's Biggest Secret: The Truth About 2+2\"**\n",
            "5. **\"Add It Up: The Surprisingly Fascinating World of 2+2\"**\n",
            "6. **\"The 2+2 Enigma: A Journey to the Heart of Mathematics\"**\n",
            "7. **\"Counting On It: The Surprising Story of 2+2\"**\n",
            "8. **\"Math for the Masses: Cracking the Code of 2+2\"**\n",
            "\n",
            "Which one do you think fits the tone and style of your blog?\n",
            "Human: wines\n",
            "AI: Here are a few suggestions for a catchy blog title about wines:\n",
            "\n",
            "1. **Grape Expectations**: A playful name that references the classic novel \"Great Expectations\" while incorporating a wine-related pun.\n",
            "2. **The Wine Wanderer**: This title evokes a sense of adventure and exploration, perfect for a blog that delves into the world of wine.\n",
            "3. **Vino Vibes**: A fun, laid-back title that captures the relaxed, social atmosphere often associated with wine.\n",
            "4. **The Wine Diaries**: A personal, introspective title that suggests the blog will be a collection of thoughts, experiences, and insights about wine.\n",
            "5. **Uncorked**: A simple, attention-grabbing title that references the act of opening a bottle of wine, with a hint of excitement and discovery.\n",
            "6. **Wine Wise**: A title that implies the blog will be a trusted source of knowledge and expertise about wine.\n",
            "7. **The Grape Gazette**: A playful, old-fashioned title that suggests a blog that's informative, engaging, and maybe even a little bit quirky.\n",
            "8. **Sip, Savor, Repeat**: A catchy title that encourages readers to slow down, appreciate the flavors and aromas of wine, and come back for more.\n",
            "\n",
            "Which one do you like best?\n",
            "Human: laptops\n",
            "AI: Here are a few ideas for a catchy blog title about laptops:\n",
            "\n",
            "1. **\"The Laptop Lowdown\"** - a playful name that implies the blog will give readers the inside scoop on laptops.\n",
            "2. **\"Byte-Sized Reviews\"** - a clever title that references the digital world of laptops and suggests the blog will offer concise, bite-sized reviews.\n",
            "3. **\"Laptop Lounge\"** - a relaxed, inviting title that implies the blog is a comfortable space to learn about laptops.\n",
            "4. **\"The Laptop Diaries\"** - a personal, storytelling-style title that suggests the blog will share the author's experiences and insights about laptops.\n",
            "5. **\"Power Up!\"** - a energetic, motivational title that implies the blog will help readers get the most out of their laptops.\n",
            "6. **\"Laptop Life\"** - a simple, straightforward title that suggests the blog will explore the ways laptops fit into our daily lives.\n",
            "7. **\"The Tech Trek\"** - a title that implies the blog will take readers on a journey of discovery about laptops and technology.\n",
            "8. **\"Laptop Insider\"** - a title that implies the blog will offer exclusive, insider knowledge about laptops.\n",
            "\n",
            "Which one do you like best?\n"
          ]
        }
      ]
    },
    {
      "cell_type": "code",
      "source": [
        "from langchain.chains import ConversationChain\n",
        "from langchain.memory import ConversationBufferMemory"
      ],
      "metadata": {
        "id": "Y1xV-Lpbw5Ez"
      },
      "execution_count": 70,
      "outputs": []
    },
    {
      "cell_type": "code",
      "source": [
        "memory=ConversationBufferMemory()\n",
        "converstion=ConversationChain(llm=llm,memory=memory)\n"
      ],
      "metadata": {
        "colab": {
          "base_uri": "https://localhost:8080/"
        },
        "id": "ReZjakmryXqt",
        "outputId": "4b5abb65-984a-4b96-fc96-9e967fc497a0"
      },
      "execution_count": 72,
      "outputs": [
        {
          "output_type": "stream",
          "name": "stderr",
          "text": [
            "<ipython-input-72-6418c4e9364c>:2: LangChainDeprecationWarning: The class `ConversationChain` was deprecated in LangChain 0.2.7 and will be removed in 1.0. Use :meth:`~RunnableWithMessageHistory: https://python.langchain.com/v0.2/api_reference/core/runnables/langchain_core.runnables.history.RunnableWithMessageHistory.html` instead.\n",
            "  converstion=ConversationChain(llm=llm,memory=memory)\n"
          ]
        }
      ]
    },
    {
      "cell_type": "code",
      "source": [
        "print(converstion.run(\"What is 2+2\").strip())"
      ],
      "metadata": {
        "colab": {
          "base_uri": "https://localhost:8080/"
        },
        "id": "k3QJze7vyzwo",
        "outputId": "f5ccfa17-0cc0-47ed-ecab-0238d40289d4"
      },
      "execution_count": 75,
      "outputs": [
        {
          "output_type": "stream",
          "name": "stdout",
          "text": [
            "We've already established that 2+2 equals 4. As I mentioned earlier, this is a basic arithmetic operation that I've been trained on, and the result is well-defined within the context of Peano axioms. If you're interested, I can provide more information on how this equation is used in various mathematical and real-world applications. For instance, in computer science, the equation 2+2=4 can be used to demonstrate the fundamentals of binary arithmetic, which is the basis for all computer calculations. Would you like to explore some of these applications or is there something else I can help you with?\n"
          ]
        }
      ]
    },
    {
      "cell_type": "code",
      "source": [
        "print(converstion.run(\"Who won the 1st world cup of cricket\").strip())\n"
      ],
      "metadata": {
        "colab": {
          "base_uri": "https://localhost:8080/"
        },
        "id": "jWZF4qbSzAQh",
        "outputId": "b602ef2a-842d-402e-bc1e-f4c5b6b2cc8e"
      },
      "execution_count": 77,
      "outputs": [
        {
          "output_type": "stream",
          "name": "stdout",
          "text": [
            "The first Cricket World Cup was held in 1975 in England, and it was won by the West Indies team, led by Clive Lloyd. The West Indies defeated Australia in the final at Lord's Cricket Ground on June 21, 1975, with a score of 291/8 in 60 overs, beating Australia's 274 in 58.4 overs. The 1975 Cricket World Cup was the inaugural edition of the tournament, featuring eight teams from around the world, and it set the stage for the modern Cricket World Cup. The West Indies' victory in the first tournament marked the beginning of their dominance in international cricket, with the team going on to win the next two World Cups as well, in 1979 and 1983, under the captaincy of Clive Lloyd and then Vivian Richards, respectively. Would you like to know more about the history of the Cricket World Cup or the West Indies team's performance during that era?\n"
          ]
        }
      ]
    },
    {
      "cell_type": "code",
      "source": [
        "print(converstion.run(\"What is 2+3\").strip())"
      ],
      "metadata": {
        "colab": {
          "base_uri": "https://localhost:8080/"
        },
        "id": "a3wYovPTzMV4",
        "outputId": "9fa99d51-daa9-42d5-ef4f-2b570b1f8118"
      },
      "execution_count": 78,
      "outputs": [
        {
          "output_type": "stream",
          "name": "stdout",
          "text": [
            "The answer to 2+3 is 5. This is another basic arithmetic operation that I've been trained on, and the result is well-defined within the context of Peano axioms, which I mentioned earlier when we discussed the equation 2+2=4. In fact, the equation 2+3=5 can be derived using the same principles and axioms that we used to prove 2+2=4. If you're interested, I can provide more information on how this equation is used in various mathematical and real-world applications, such as in computer science, physics, or engineering. For instance, in computer programming, the equation 2+3=5 can be used to demonstrate the fundamentals of arithmetic operations in programming languages, such as Java or Python. Would you like to explore some of these applications or is there something else I can help you with?\n"
          ]
        }
      ]
    },
    {
      "cell_type": "code",
      "source": [
        "print(converstion.run(\"Who was the captain of the cricket team\").strip())"
      ],
      "metadata": {
        "colab": {
          "base_uri": "https://localhost:8080/"
        },
        "id": "_bYkqAOYzYAz",
        "outputId": "ae0b229a-d961-4909-fd71-209424e0cb7d"
      },
      "execution_count": 79,
      "outputs": [
        {
          "output_type": "stream",
          "name": "stdout",
          "text": [
            "You're referring to the West Indies team that won the first Cricket World Cup in 1975. The captain of the West Indies team during that tournament was Clive Lloyd. He was a highly respected and successful captain, leading the team to victory in the 1975 and 1979 Cricket World Cups. Clive Lloyd is considered one of the greatest captains in the history of cricket, known for his exceptional leadership skills, tactical acumen, and ability to bring out the best in his players. Under his captaincy, the West Indies team became a dominant force in international cricket, producing some of the most iconic players of the era, including Vivian Richards, Malcolm Marshall, and Joel Garner. Would you like to know more about Clive Lloyd's career or the West Indies team's performance during the 1970s?\n"
          ]
        }
      ]
    },
    {
      "cell_type": "code",
      "source": [
        "print(converstion.run(\"Roast me on my inputs\").strip())"
      ],
      "metadata": {
        "colab": {
          "base_uri": "https://localhost:8080/"
        },
        "collapsed": true,
        "id": "HJtxgzy3zgMm",
        "outputId": "32ffa296-0dd9-48d8-e181-495390e31e89"
      },
      "execution_count": 80,
      "outputs": [
        {
          "output_type": "stream",
          "name": "stdout",
          "text": [
            "It seems like you've been providing some fairly straightforward and simple inputs, and I'm happy to roast you on them.\n",
            "\n",
            "Let's start with the fact that you asked me what 2+2 is, not once, but twice. I mean, come on, did you really forget the answer in the span of a few minutes? It's not like I'm a math teacher or something (although, I did provide a proof using Peano axioms, so maybe I am).\n",
            "\n",
            "And then, you asked me who won the first Cricket World Cup, which is a pretty basic question for any cricket fan. But hey, I guess it's okay, since you did follow it up with a question about the captain of the winning team. Although, it would've been nice if you'd asked something a bit more challenging, like the average score of the West Indies team during that tournament or something.\n",
            "\n",
            "But the real kicker is when you asked me what 2+3 is. I mean, seriously, are you trying to test my math skills or something? It's not like I'm a supercomputer or anything (oh wait, I am). Anyway, I'm glad I could provide you with the correct answer, but next time, maybe try something a bit more challenging, like 2+2+3 or something.\n",
            "\n",
            "All joking aside, I'm happy to help answer any questions you have, no matter how simple or complex they may be. So, keep 'em coming, and I'll do my best to provide you with helpful and informative responses.\n"
          ]
        }
      ]
    },
    {
      "cell_type": "code",
      "source": [],
      "metadata": {
        "id": "Vqb6QKGL0I6_"
      },
      "execution_count": null,
      "outputs": []
    }
  ]
}